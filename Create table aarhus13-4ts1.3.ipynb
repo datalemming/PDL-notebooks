{
 "cells": [
  {
   "cell_type": "markdown",
   "metadata": {},
   "source": [
    "![Basho banner](./basho_vert.png)\n",
    "## Riak TS 1.2 Demonstration\n",
    "\n",
    "#### Describe environment\n",
    "* VirtualBox environment\n",
    "* Linux Mint 17.2\n",
    "* 8GB RAM\n",
    "* 2 cores\n",
    "* 50GB HDD\n",
    "\n",
    "#### Describe data\n",
    "\n",
    "### Table creation\n"
   ]
  },
  {
   "cell_type": "code",
   "execution_count": 1,
   "metadata": {
    "collapsed": false
   },
   "outputs": [
    {
     "name": "stderr",
     "output_type": "stream",
     "text": [
      "/home/stephen/aarhus/local/lib/python2.7/site-packages/riak/security.py:45: UserWarning: OpenSSL 1.0.1f 6 Jan 2014 (>= 1.0.1g required), TLS 1.2 support: False\n",
      "  warnings.warn(msg, UserWarning)\n"
     ]
    }
   ],
   "source": [
    "from riak import RiakClient"
   ]
  },
  {
   "cell_type": "code",
   "execution_count": 4,
   "metadata": {
    "collapsed": false
   },
   "outputs": [
    {
     "data": {
      "text/plain": [
       "True"
      ]
     },
     "execution_count": 4,
     "metadata": {},
     "output_type": "execute_result"
    }
   ],
   "source": [
    "c=RiakClient()\n",
    "c.ping()"
   ]
  },
  {
   "cell_type": "code",
   "execution_count": 4,
   "metadata": {
    "collapsed": false
   },
   "outputs": [
    {
     "data": {
      "text/plain": [
       "<riak.ts_object.TsObject at 0x7f21da879150>"
      ]
     },
     "execution_count": 4,
     "metadata": {},
     "output_type": "execute_result"
    }
   ],
   "source": [
    "#create table\n",
    "#DO NOT RUN THIS CELL IF THE TABLE ALREADY EXISTS - IT WILL GENERATE AN ERROR\n",
    "\n",
    "fmt=\"\"\"\n",
    "    CREATE TABLE aarhus13-4 (\n",
    "        status varchar not null,\n",
    "        extid varchar not null,\n",
    "        ts timestamp not null,\n",
    "        avgMeasuredTime sint64 not null,\n",
    "        avgSpeed sint64 not null,\n",
    "        medianMeasuredTime sint64 not null,\n",
    "        vehicleCount sint64 not null,\n",
    "        id sint64 not null,\n",
    "        report_id sint64 not null,\n",
    "        PRIMARY KEY(\n",
    "            (extid,quantum(ts,30,'d')),\n",
    "            extid,ts)\n",
    "            )\n",
    "\"\"\"\n",
    "c.ts_query('aarhus13-4',fmt)"
   ]
  },
  {
   "cell_type": "code",
   "execution_count": 5,
   "metadata": {
    "collapsed": false
   },
   "outputs": [
    {
     "name": "stdout",
     "output_type": "stream",
     "text": [
      "['status', 'varchar', False, None, None]\n",
      "['extid', 'varchar', False, 1, 1]\n",
      "['ts', 'timestamp', False, 2, 2]\n",
      "['avgMeasuredTime', 'sint64', False, None, None]\n",
      "['avgSpeed', 'sint64', False, None, None]\n",
      "['medianMeasuredTime', 'sint64', False, None, None]\n",
      "['vehicleCount', 'sint64', False, None, None]\n",
      "['id', 'sint64', False, None, None]\n",
      "['report_id', 'sint64', False, None, None]\n"
     ]
    }
   ],
   "source": [
    "t=c.table('aarhus13-4')\n",
    "to=t.describe()\n",
    "for r in to.rows:\n",
    "    print r"
   ]
  },
  {
   "cell_type": "markdown",
   "metadata": {},
   "source": [
    "Need to change the n_val using the riak-admin cli as we have only one node so only one replica is called for.\n",
    "\n",
    "$riak-admin bucket-type update aarhus13 '{\"props\":{\"n_val\":1}}'\n",
    "aarhus13 updated\n",
    "\n",
    "$ riak-admin bucket-type status aarhus13\n",
    "aarhus13 is active.........\n"
   ]
  },
  {
   "cell_type": "markdown",
   "metadata": {},
   "source": [
    "#### Now use the script load-data-ts13.py to load data into the table created above"
   ]
  },
  {
   "cell_type": "code",
   "execution_count": null,
   "metadata": {
    "collapsed": true
   },
   "outputs": [],
   "source": []
  }
 ],
 "metadata": {
  "kernelspec": {
   "display_name": "Python 2",
   "language": "python",
   "name": "python2"
  },
  "language_info": {
   "codemirror_mode": {
    "name": "ipython",
    "version": 2
   },
   "file_extension": ".py",
   "mimetype": "text/x-python",
   "name": "python",
   "nbconvert_exporter": "python",
   "pygments_lexer": "ipython2",
   "version": "2.7.6"
  }
 },
 "nbformat": 4,
 "nbformat_minor": 0
}
