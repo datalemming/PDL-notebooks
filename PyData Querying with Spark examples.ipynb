{
 "cells": [
  {
   "cell_type": "markdown",
   "metadata": {},
   "source": [
    "![Basho Man](./Basho_Man_6.png)\n",
    "### Use of the Riak-Spark-Connector to investigate traffic patterns at position '668' in Aarhus"
   ]
  },
  {
   "cell_type": "markdown",
   "metadata": {},
   "source": [
    "From our earlier work (see the Jupyter Notebook 'Querying Aarhus2 data.ipynb'), we have some notion of the shape of the relevant dataset.  We think that what determines the vehicle count through that sensor reach could be a combination of:\n",
    "* Hour of the day\n",
    "* Day of the week\n",
    "* Week of the year\n",
    "* Month of the year\n",
    "\n",
    "This notebook examines each of those variables in turn to see if our supposition holds any water."
   ]
  },
  {
   "cell_type": "code",
   "execution_count": 1,
   "metadata": {
    "collapsed": false
   },
   "outputs": [
    {
     "name": "stdout",
     "output_type": "stream",
     "text": [
      "spark.app.name=pyspark-shell\n",
      "spark.master=local[*]\n",
      "spark.submit.deployMode=client\n"
     ]
    }
   ],
   "source": [
    "#set the environment and load necessary libraries\n",
    "\n",
    "import findspark\n",
    "findspark.init()\n",
    "\n",
    "import pyspark\n",
    "from pyspark.sql import Row\n",
    "\n",
    "conf = pyspark.SparkConf()\n",
    "print conf.toDebugString()\n",
    "\n",
    "sc = pyspark.SparkContext(conf=conf)\n",
    "sqlContext = pyspark.SQLContext(sc)"
   ]
  },
  {
   "cell_type": "code",
   "execution_count": 2,
   "metadata": {
    "collapsed": false
   },
   "outputs": [
    {
     "name": "stdout",
     "output_type": "stream",
     "text": [
      "root\n",
      " |-- status: string (nullable = false)\n",
      " |-- extid: string (nullable = false)\n",
      " |-- ts: long (nullable = false)\n",
      " |-- avgMeasuredTime: long (nullable = false)\n",
      " |-- avgSpeed: long (nullable = false)\n",
      " |-- medianMeasuredTime: long (nullable = false)\n",
      " |-- vehicleCount: long (nullable = false)\n",
      " |-- id: long (nullable = false)\n",
      " |-- report_id: long (nullable = false)\n",
      "\n",
      "+------+-----+-------------+---------------+--------+------------------+------------+------+---------+\n",
      "|status|extid|           ts|avgMeasuredTime|avgSpeed|medianMeasuredTime|vehicleCount|    id|report_id|\n",
      "+------+-----+-------------+---------------+--------+------------------+------------+------+---------+\n",
      "|    OK|  668|1392291000000|             66|      56|                66|           7|190000|   158324|\n",
      "|    OK|  668|1392291300000|             69|      53|                69|           5|190449|   158324|\n",
      "|    OK|  668|1392291600000|             69|      53|                69|           6|190898|   158324|\n",
      "|    OK|  668|1392291900000|             70|      52|                70|           3|191347|   158324|\n",
      "|    OK|  668|1392292200000|             64|      57|                64|           6|191796|   158324|\n",
      "|    OK|  668|1392292500000|             75|      49|                75|           9|192245|   158324|\n",
      "|    OK|  668|1392292800000|             73|      50|                73|          11|192694|   158324|\n",
      "|    OK|  668|1392293100000|             59|      62|                59|           8|193143|   158324|\n",
      "|    OK|  668|1392293400000|             61|      60|                61|          10|193592|   158324|\n",
      "|    OK|  668|1392293700000|             63|      58|                63|          12|194041|   158324|\n",
      "|    OK|  668|1392294000000|             62|      59|                62|          16|194490|   158324|\n",
      "|    OK|  668|1392294300000|             62|      59|                62|          16|194939|   158324|\n",
      "|    OK|  668|1392294600000|             59|      62|                59|           8|195388|   158324|\n",
      "|    OK|  668|1392294900000|             67|      55|                67|           9|195837|   158324|\n",
      "|    OK|  668|1392295200000|             65|      57|                65|           8|196286|   158324|\n",
      "|    OK|  668|1392295500000|             60|      61|                60|           7|196735|   158324|\n",
      "|    OK|  668|1392295800000|             61|      60|                61|          11|197184|   158324|\n",
      "|    OK|  668|1392296100000|             58|      63|                58|           8|197633|   158324|\n",
      "|    OK|  668|1392296400000|             70|      52|                70|           8|198082|   158324|\n",
      "|    OK|  668|1392296700000|             61|      60|                61|           9|198531|   158324|\n",
      "+------+-----+-------------+---------------+--------+------------------+------------+------+---------+\n",
      "only showing top 20 rows\n",
      "\n"
     ]
    },
    {
     "data": {
      "text/plain": [
       "32059"
      ]
     },
     "execution_count": 2,
     "metadata": {},
     "output_type": "execute_result"
    }
   ],
   "source": [
    "#get our data\n",
    "\n",
    "table_name=\"aarhus13-4\"\n",
    "start_date= 1392290000000\n",
    "end_date = 1402292200000\n",
    "status='OK'\n",
    "extid='668'\n",
    "\n",
    "host='127.0.0.1'\n",
    "pb_port = '8087'\n",
    "hostAndPort = \":\".join([host, pb_port])\n",
    "\n",
    "rdd1 = sqlContext.read\\\n",
    "    .format(\"org.apache.spark.sql.riak\")\\\n",
    "    .option(\"spark.riak.connection.host\", hostAndPort)\\\n",
    "    .option(\"spark.riakts.bindings.timestamp\", \"useLong\")\\\n",
    "    .load(table_name)\\\n",
    "    .filter(\"\"\"ts > %(start_date)s\n",
    "        AND ts <  %(end_date)s\n",
    "        AND status = '%(status)s'\n",
    "        AND extid = '%(extid)s'\n",
    "    \"\"\" % ({'start_date': start_date, 'end_date': end_date, 'status': status, 'extid': extid})) \n",
    "    \n",
    "    #show we have got the data\n",
    "\n",
    "rdd1.printSchema()\n",
    "\n",
    "rdd1.show()\n",
    "\n",
    "rdd1.count()"
   ]
  },
  {
   "cell_type": "markdown",
   "metadata": {},
   "source": [
    "We need to map values in the df to day of the week, week of the year, hour of the day and create subsidiary dataframes with the vehicle count and relevant \"driving\" variable."
   ]
  },
  {
   "cell_type": "code",
   "execution_count": 3,
   "metadata": {
    "collapsed": false
   },
   "outputs": [
    {
     "name": "stdout",
     "output_type": "stream",
     "text": [
      "+-------------+------------+\n",
      "|           ts|vehicleCount|\n",
      "+-------------+------------+\n",
      "|1392291000000|           7|\n",
      "|1392291300000|           5|\n",
      "|1392291600000|           6|\n",
      "|1392291900000|           3|\n",
      "|1392292200000|           6|\n",
      "|1392292500000|           9|\n",
      "|1392292800000|          11|\n",
      "|1392293100000|           8|\n",
      "|1392293400000|          10|\n",
      "|1392293700000|          12|\n",
      "|1392294000000|          16|\n",
      "|1392294300000|          16|\n",
      "|1392294600000|           8|\n",
      "|1392294900000|           9|\n",
      "|1392295200000|           8|\n",
      "|1392295500000|           7|\n",
      "|1392295800000|          11|\n",
      "|1392296100000|           8|\n",
      "|1392296400000|           8|\n",
      "|1392296700000|           9|\n",
      "+-------------+------------+\n",
      "only showing top 20 rows\n",
      "\n",
      "32059\n"
     ]
    }
   ],
   "source": [
    "#we only want ts and vehicleCount\n",
    "\n",
    "rdd2=rdd1['ts','vehicleCount']\n",
    "rdd2.show()\n",
    "print rdd2.count()"
   ]
  },
  {
   "cell_type": "code",
   "execution_count": 4,
   "metadata": {
    "collapsed": false
   },
   "outputs": [
    {
     "name": "stdout",
     "output_type": "stream",
     "text": [
      "Control total  32059 \n",
      "\n",
      "Pearson correlation coefficient between those columns  -0.253149461566 \n",
      "\n",
      "1 23939\n",
      "2 25497\n",
      "3 24722\n",
      "4 23482\n",
      "5 23088\n",
      "6 9461\n",
      "7 7853\n"
     ]
    }
   ],
   "source": [
    "#now to get day of the week\n",
    "\n",
    "from datetime import datetime\n",
    "\n",
    "def getDOW(row):\n",
    "    dt=datetime.fromtimestamp(row[0]/1000)\n",
    "    dow=dt.isoweekday()\n",
    "    return Row(dow,row[1])\n",
    "\n",
    "df3=rdd2.map(getDOW)\n",
    "\n",
    "df31=df3.toDF()\n",
    "\n",
    "print 'Control total ',df31.count(),'\\n'\n",
    "#print 'Column names ',df31.columns,'\\n'\n",
    "print 'Pearson correlation coefficient between those columns ',df31.corr('_1','_2'),'\\n'\n",
    "rdd31=df31.rdd\n",
    "#print 'Counts of records by day of the week ',sorted(rdd31.countByKey().items()),'\\n'\n",
    "\n",
    "#try to get total counts by day of the week.\n",
    "sum31=df31.groupBy('_1').sum().collect()\n",
    "for r in sum31:\n",
    "    print r[0],r[2]\n",
    "\n"
   ]
  },
  {
   "cell_type": "code",
   "execution_count": 5,
   "metadata": {
    "collapsed": true
   },
   "outputs": [],
   "source": [
    "#to chart our results\n",
    "\n",
    "import matplotlib as plt\n",
    "import pandas as pd\n",
    "%matplotlib inline"
   ]
  },
  {
   "cell_type": "code",
   "execution_count": 6,
   "metadata": {
    "collapsed": false
   },
   "outputs": [
    {
     "data": {
      "text/plain": [
       "<matplotlib.text.Text at 0x7f56301c8690>"
      ]
     },
     "execution_count": 6,
     "metadata": {},
     "output_type": "execute_result"
    },
    {
     "data": {
      "image/png": "[encoded data removed]",
      "text/plain": [
       "<matplotlib.figure.Figure at 0x7f56327cc7d0>"
      ]
     },
     "metadata": {},
     "output_type": "display_data"
    }
   ],
   "source": [
    "tdf=pd.DataFrame(sum31)\n",
    "tdf.describe()\n",
    "ax=tdf.plot(x=0,y=2,figsize=(9,9),kind='bar')\n",
    "ax.set_ylabel('Total vehicle count', fontsize=18)\n",
    "ax.set_xlabel('Day of the week', fontsize=18)"
   ]
  },
  {
   "cell_type": "markdown",
   "metadata": {},
   "source": [
    "## STOP HERE FOR SALES TRAINING SESSION AND RUN NEXT CELL\n"
   ]
  },
  {
   "cell_type": "code",
   "execution_count": 7,
   "metadata": {
    "collapsed": true
   },
   "outputs": [],
   "source": [
    "sc.stop()"
   ]
  },
  {
   "cell_type": "code",
   "execution_count": null,
   "metadata": {
    "collapsed": false
   },
   "outputs": [],
   "source": [
    "#now to get week of the year\n",
    "\n",
    "def getWOY(row):\n",
    "    dt=datetime.fromtimestamp(row[0]/1000)\n",
    "    woy=int(dt.strftime(\"%U\"))\n",
    "    return Row(woy,row[1])\n",
    "\n",
    "df4=df2.map(getWOY)\n",
    "df41=df4.toDF()\n",
    "\n",
    "print 'Control total ',df41.count(),'\\n'\n",
    "#print 'Column names ',df41.columns,'\\n'\n",
    "print 'Pearson correlation coefficient between those columns ',df41.corr('_1','_2'),'\\n'\n",
    "rdd41=df41.rdd\n",
    "#print 'Counts of records by week of the year ',sorted(rdd41.countByKey().items()),'\\n'\n",
    "\n",
    "#try to get total counts by week of the year.\n",
    "sum41=df41.groupBy('_1').sum().collect()\n",
    "for r in sum41:\n",
    "    print r[0],r[2]"
   ]
  },
  {
   "cell_type": "code",
   "execution_count": null,
   "metadata": {
    "collapsed": false
   },
   "outputs": [],
   "source": [
    "tdf=pd.DataFrame(sum41)\n",
    "tdf.describe()\n",
    "ax=tdf.plot(x=0,y=2,figsize=(9,9),kind='bar')\n",
    "ax.set_ylabel('Total vehicle count', fontsize=18)\n",
    "ax.set_xlabel('Week of the year', fontsize=18)"
   ]
  },
  {
   "cell_type": "code",
   "execution_count": null,
   "metadata": {
    "collapsed": false
   },
   "outputs": [],
   "source": [
    "#month of the year\n",
    "def getMOY(row):\n",
    "    dt=datetime.fromtimestamp(row[0]/1000)\n",
    "    moy=int(dt.strftime(\"%m\"))\n",
    "    print moy\n",
    "    return Row(moy,row[1])\n",
    "\n",
    "df5=df2.map(getMOY)\n",
    "df51=df5.toDF()\n",
    "\n",
    "print 'Control total ',df51.count(),'\\n'\n",
    "#print 'Column names ',df51.columns,'\\n'\n",
    "print 'Pearson correlation coefficient between those columns ',df51.corr('_1','_2'),'\\n'\n",
    "rdd51=df51.rdd\n",
    "#print 'Counts of records by month of the year ',sorted(rdd51.countByKey().items()),'\\n'\n",
    "\n",
    "#try to get total counts by day of the week.\n",
    "sum51=df51.groupBy('_1').sum().collect()\n",
    "for r in sum51:\n",
    "    print r[0],r[2]\n"
   ]
  },
  {
   "cell_type": "code",
   "execution_count": null,
   "metadata": {
    "collapsed": false
   },
   "outputs": [],
   "source": [
    "#to chart the results\n",
    "tdf=pd.DataFrame(sum51)\n",
    "tdf.describe()\n",
    "ax=tdf.plot(x=0,y=2,figsize=(9,9),kind='bar')\n",
    "ax.set_ylabel('Total vehicle count', fontsize=18)\n",
    "ax.set_xlabel('Month of the year', fontsize=18)"
   ]
  },
  {
   "cell_type": "code",
   "execution_count": null,
   "metadata": {
    "collapsed": false
   },
   "outputs": [],
   "source": [
    "#hour of the day\n",
    "\n",
    "def getHOD(row):\n",
    "    dt=datetime.fromtimestamp(row[0]/1000)\n",
    "    hod=dt.hour\n",
    "    return Row(hod,row[1])\n",
    "\n",
    "df6=df2.map(getHOD)\n",
    "df61=df6.toDF()\n",
    "\n",
    "print 'Control total ',df61.count(),'\\n'\n",
    "#print 'Column names ',df61.columns,'\\n'\n",
    "print 'Pearson correlation coefficient between those columns ',df61.corr('_1','_2'),'\\n'\n",
    "rdd61=df61.rdd\n",
    "#print 'Counts of records by month of the year ',sorted(rdd51.countByKey().items()),'\\n'\n",
    "\n",
    "#try to get total counts by hour of the day\n",
    "sum61=df61.groupBy('_1').sum().collect()\n",
    "for r in sum61:\n",
    "    print r[0],r[2]"
   ]
  },
  {
   "cell_type": "code",
   "execution_count": null,
   "metadata": {
    "collapsed": false,
    "scrolled": true
   },
   "outputs": [],
   "source": [
    "#to chart the results\n",
    "tdf=pd.DataFrame(sum61)\n",
    "tdf.describe()\n",
    "ax=tdf.plot(x=0,y=2,figsize=(9,9),kind='bar')\n",
    "ax.set_ylabel('Total vehicle count', fontsize=18)\n",
    "ax.set_xlabel('Hour of the day', fontsize=18)"
   ]
  },
  {
   "cell_type": "markdown",
   "metadata": {},
   "source": [
    "### Conclusion\n",
    "From our analysis, it appears that the vehicleCount is related to:\n",
    "* Day of the week\n",
    "* Hour of the day"
   ]
  }
 ],
 "metadata": {
  "kernelspec": {
   "display_name": "Python 2",
   "language": "python",
   "name": "python2"
  },
  "language_info": {
   "codemirror_mode": {
    "name": "ipython",
    "version": 2
   },
   "file_extension": ".py",
   "mimetype": "text/x-python",
   "name": "python",
   "nbconvert_exporter": "python",
   "pygments_lexer": "ipython2",
   "version": "2.7.6"
  }
 },
 "nbformat": 4,
 "nbformat_minor": 0
}
