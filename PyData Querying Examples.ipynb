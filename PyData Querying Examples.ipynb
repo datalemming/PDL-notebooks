{
 "cells": [
  {
   "cell_type": "markdown",
   "metadata": {},
   "source": [
    "![Basho logo](./basho_vert.png)\n",
    "### Querying the Aarhus traffic data"
   ]
  },
  {
   "cell_type": "markdown",
   "metadata": {},
   "source": [
    "Table format:\n",
    "TABLE aarhus13-4:\n",
    "\n",
    "status,extid,ts,avgMeasuredTime,avgSpeed,medianMeasuredTime,vehicleCount,id,report_id\n",
    "    \n",
    "PRIMARY KEY extid,quantum(ts,30,'d')),extid,ts"
   ]
  },
  {
   "cell_type": "code",
   "execution_count": 1,
   "metadata": {
    "collapsed": false
   },
   "outputs": [
    {
     "name": "stderr",
     "output_type": "stream",
     "text": [
      "/home/stephen/aarhus/local/lib/python2.7/site-packages/riak/security.py:45: UserWarning: OpenSSL 1.0.1f 6 Jan 2014 (>= 1.0.1g required), TLS 1.2 support: False\n",
      "  warnings.warn(msg, UserWarning)\n"
     ]
    },
    {
     "data": {
      "text/plain": [
       "True"
      ]
     },
     "execution_count": 1,
     "metadata": {},
     "output_type": "execute_result"
    }
   ],
   "source": [
    "from riak import RiakClient\n",
    "from riak.util import unix_time_millis, datetime_from_unix_time_millis\n",
    "from datetime import datetime\n",
    "import calendar\n",
    "import csv\n",
    "def changetime(stime):\n",
    "            dt=datetime.strptime(stime,'%Y-%m-%dT%H:%M:%S')\n",
    "            #print dt\n",
    "            return calendar.timegm(datetime.timetuple(dt))*1000\n",
    "            \n",
    "c=RiakClient(transport_options={'ts_convert_timestamp':True})\n",
    "c.ping()"
   ]
  },
  {
   "cell_type": "code",
   "execution_count": 2,
   "metadata": {
    "collapsed": false
   },
   "outputs": [
    {
     "name": "stdout",
     "output_type": "stream",
     "text": [
      "1392249600000 1397347199000\n"
     ]
    }
   ],
   "source": [
    "#startdate=changetime('2014-02-13T00:00:00')\n",
    "#enddate=changetime('2014-04-12T23:59:59')\n",
    "startdate=unix_time_millis(datetime(2014,2,13,0,0))\n",
    "enddate=unix_time_millis(datetime(2014,4,12,23,59,59,0))\n",
    "print startdate, enddate"
   ]
  },
  {
   "cell_type": "code",
   "execution_count": 3,
   "metadata": {
    "collapsed": false
   },
   "outputs": [
    {
     "name": "stdout",
     "output_type": "stream",
     "text": [
      "\n",
      "    select count(*)  from aarhus13-4 where ts > 1392249600000 and ts < 1397347199000 and extid='668'\n",
      "\n",
      "[[16131]]\n"
     ]
    }
   ],
   "source": [
    "q=\"\"\"\n",
    "    select count(*)  from aarhus13-4 where ts > {t1} and ts < {t2} and extid='668'\n",
    "\"\"\"\n",
    "query=q.format(t1=startdate, t2=enddate)\n",
    "print query\n",
    "ds=c.ts_query('aarhus13-4', query)\n",
    "#print ds\n",
    "\n",
    "#for r in range(0,10):\n",
    "#    print ds.rows[r]\n",
    "\n",
    "#print len(ds.rows)\n",
    "print ds.rows"
   ]
  },
  {
   "cell_type": "code",
   "execution_count": 4,
   "metadata": {
    "collapsed": false
   },
   "outputs": [
    {
     "name": "stdout",
     "output_type": "stream",
     "text": [
      "['OK', '668', datetime.datetime(2014, 2, 13, 11, 30), 66, 56, 66, 7, 190000, 158324]\n",
      "['OK', '668', datetime.datetime(2014, 2, 13, 11, 35), 69, 53, 69, 5, 190449, 158324]\n",
      "['OK', '668', datetime.datetime(2014, 2, 13, 11, 40), 69, 53, 69, 6, 190898, 158324]\n",
      "['OK', '668', datetime.datetime(2014, 2, 13, 11, 45), 70, 52, 70, 3, 191347, 158324]\n",
      "['OK', '668', datetime.datetime(2014, 2, 13, 11, 50), 64, 57, 64, 6, 191796, 158324]\n",
      "['OK', '668', datetime.datetime(2014, 2, 13, 11, 55), 75, 49, 75, 9, 192245, 158324]\n",
      "['OK', '668', datetime.datetime(2014, 2, 13, 12, 0), 73, 50, 73, 11, 192694, 158324]\n",
      "['OK', '668', datetime.datetime(2014, 2, 13, 12, 5), 59, 62, 59, 8, 193143, 158324]\n",
      "['OK', '668', datetime.datetime(2014, 2, 13, 12, 10), 61, 60, 61, 10, 193592, 158324]\n",
      "['OK', '668', datetime.datetime(2014, 2, 13, 12, 15), 63, 58, 63, 12, 194041, 158324]\n"
     ]
    }
   ],
   "source": [
    "q=\"\"\"\n",
    "    select *  from aarhus13-4 where ts > {t1} and ts < {t2} and extid='668'\n",
    "\"\"\"\n",
    "query=q.format(t1=startdate, t2=enddate)\n",
    "#print query\n",
    "ds1=c.ts_query('aarhus13-4', query)\n",
    "#print ds\n",
    "\n",
    "#for r in range(0,10):\n",
    "#    print ds.rows[r]\n",
    "\n",
    "#print len(ds.rows)\n",
    "for r in range (0,10):\n",
    "    print ds1.rows[r]"
   ]
  },
  {
   "cell_type": "code",
   "execution_count": 5,
   "metadata": {
    "collapsed": false
   },
   "outputs": [
    {
     "name": "stdout",
     "output_type": "stream",
     "text": [
      "[[132]]\n"
     ]
    }
   ],
   "source": [
    "q=\"\"\"\n",
    "    select max(avgSpeed)  from aarhus13-4 where ts > {t1} and ts < {t2} and extid='668'\n",
    "\"\"\"\n",
    "query=q.format(t1=startdate, t2=enddate)\n",
    "#print query\n",
    "ds=c.ts_query('aarhus', query)\n",
    "#print ds\n",
    "\n",
    "#for r in range(0,10):\n",
    "#    print ds.rows[r]\n",
    "\n",
    "#print len(ds.rows)\n",
    "print ds.rows"
   ]
  },
  {
   "cell_type": "code",
   "execution_count": 6,
   "metadata": {
    "collapsed": false
   },
   "outputs": [
    {
     "name": "stdout",
     "output_type": "stream",
     "text": [
      "[[13]]\n"
     ]
    }
   ],
   "source": [
    "q=\"\"\"\n",
    "    select min(avgSpeed)  from aarhus13-4 where ts > {t1} and ts < {t2} and extid='668'\n",
    "\"\"\"\n",
    "query=q.format(t1=startdate, t2=enddate)\n",
    "#print query\n",
    "ds=c.ts_query('aarhus13-4', query)\n",
    "#print ds\n",
    "\n",
    "#for r in range(0,10):\n",
    "#    print ds.rows[r]\n",
    "\n",
    "#print len(ds.rows)\n",
    "print ds.rows"
   ]
  },
  {
   "cell_type": "markdown",
   "metadata": {},
   "source": [
    "### Extending the Python client with Pandas"
   ]
  },
  {
   "cell_type": "code",
   "execution_count": 7,
   "metadata": {
    "collapsed": true
   },
   "outputs": [],
   "source": [
    "import pandas as pd"
   ]
  },
  {
   "cell_type": "code",
   "execution_count": 8,
   "metadata": {
    "collapsed": false
   },
   "outputs": [
    {
     "name": "stdout",
     "output_type": "stream",
     "text": [
      "    0    1                   2   3   4   5  6       7       8\n",
      "0  OK  668 2014-02-13 11:30:00  66  56  66  7  190000  158324\n",
      "1  OK  668 2014-02-13 11:35:00  69  53  69  5  190449  158324\n",
      "2  OK  668 2014-02-13 11:40:00  69  53  69  6  190898  158324\n",
      "3  OK  668 2014-02-13 11:45:00  70  52  70  3  191347  158324\n",
      "4  OK  668 2014-02-13 11:50:00  64  57  64  6  191796  158324\n",
      "\n",
      "\n",
      "\n"
     ]
    }
   ],
   "source": [
    "df=pd.DataFrame(ds1.rows)\n",
    "print df.head()\n",
    "print'\\n\\n'\n",
    "#print df.tail()"
   ]
  },
  {
   "cell_type": "code",
   "execution_count": 9,
   "metadata": {
    "collapsed": false
   },
   "outputs": [
    {
     "name": "stdout",
     "output_type": "stream",
     "text": [
      "                  3             4             5             6               7  \\\n",
      "count  16131.000000  16131.000000  16131.000000  16131.000000    16131.000000   \n",
      "mean      63.290249     60.698779     63.290249      4.528052  3755577.126279   \n",
      "std       17.582640     11.448895     17.582640      5.302166  2055492.118304   \n",
      "min       28.000000     13.000000     28.000000      0.000000   190000.000000   \n",
      "25%       56.000000     55.000000     56.000000      0.000000  1978747.500000   \n",
      "50%       61.000000     60.000000     61.000000      3.000000  3758506.000000   \n",
      "75%       67.000000     66.000000     67.000000      7.000000  5526333.500000   \n",
      "max      275.000000    132.000000    275.000000     36.000000  7329290.000000   \n",
      "\n",
      "            8  \n",
      "count   16131  \n",
      "mean   158324  \n",
      "std         0  \n",
      "min    158324  \n",
      "25%    158324  \n",
      "50%    158324  \n",
      "75%    158324  \n",
      "max    158324  \n"
     ]
    }
   ],
   "source": [
    "print df.describe()"
   ]
  },
  {
   "cell_type": "code",
   "execution_count": 10,
   "metadata": {
    "collapsed": true
   },
   "outputs": [],
   "source": [
    "%matplotlib inline\n",
    "import matplotlib as plt"
   ]
  },
  {
   "cell_type": "code",
   "execution_count": 11,
   "metadata": {
    "collapsed": false
   },
   "outputs": [
    {
     "data": {
      "text/plain": [
       "<matplotlib.text.Text at 0x7fedf8a3e750>"
      ]
     },
     "execution_count": 11,
     "metadata": {},
     "output_type": "execute_result"
    },
    {
     "data": {
      "image/png": "[encoded data removed]",
      "text/plain": [
       "<matplotlib.figure.Figure at 0x7fee14227090>"
      ]
     },
     "metadata": {},
     "output_type": "display_data"
    }
   ],
   "source": [
    "ax=df.plot(x=2,y=6,figsize=(10,10))\n",
    "ax.set_ylabel('Vehicle count per 5 mins', fontsize=18)\n",
    "ax.set_xlabel('Date/time', fontsize=18)"
   ]
  },
  {
   "cell_type": "code",
   "execution_count": 12,
   "metadata": {
    "collapsed": false
   },
   "outputs": [
    {
     "name": "stdout",
     "output_type": "stream",
     "text": [
      "\n",
      "    select max(vehicleCount) from aarhus13-4 where ts > 1392249600000 and ts < 1397347199000\n",
      "    and extid='668';\n",
      "\n",
      "[[36]]\n"
     ]
    }
   ],
   "source": [
    "q=\"\"\"\n",
    "    select max(vehicleCount) from aarhus13-4 where ts > {t1} and ts < {t2}\n",
    "    and extid='668';\n",
    "\"\"\"\n",
    "query=q.format(t1=startdate, t2=enddate)\n",
    "print query\n",
    "ds=c.ts_query('aarhus13-4', query)\n",
    "#print ds\n",
    "print ds.rows"
   ]
  },
  {
   "cell_type": "code",
   "execution_count": 13,
   "metadata": {
    "collapsed": false
   },
   "outputs": [
    {
     "name": "stdout",
     "output_type": "stream",
     "text": [
      "[32, datetime.datetime(2014, 2, 19, 5, 55)]\n",
      "[32, datetime.datetime(2014, 2, 26, 6, 40)]\n",
      "[33, datetime.datetime(2014, 3, 5, 5, 35)]\n",
      "[36, datetime.datetime(2014, 3, 5, 5, 40)]\n",
      "[32, datetime.datetime(2014, 3, 11, 6, 0)]\n",
      "[31, datetime.datetime(2014, 3, 12, 5, 40)]\n",
      "[31, datetime.datetime(2014, 3, 17, 5, 30)]\n",
      "[32, datetime.datetime(2014, 3, 18, 7, 20)]\n",
      "[34, datetime.datetime(2014, 3, 21, 7, 30)]\n",
      "[32, datetime.datetime(2014, 3, 27, 6, 25)]\n",
      "[32, datetime.datetime(2014, 4, 9, 5, 20)]\n"
     ]
    }
   ],
   "source": [
    "q=\"\"\"\n",
    "    select vehicleCount, ts from aarhus13-4 where ts > {t1} and ts < {t2}\n",
    "    and extid='668' and vehicleCount>30;\n",
    "\"\"\"\n",
    "query=q.format(t1=startdate, t2=enddate)\n",
    "#print query\n",
    "ds=c.ts_query('', query)\n",
    "#print ds\n",
    "for r in range(len(ds.rows)):\n",
    "    print ds.rows[r]"
   ]
  },
  {
   "cell_type": "markdown",
   "metadata": {
    "collapsed": true
   },
   "source": [
    "##### For more detailed analysis switch to "
   ]
  },
  {
   "cell_type": "code",
   "execution_count": null,
   "metadata": {
    "collapsed": true
   },
   "outputs": [],
   "source": []
  }
 ],
 "metadata": {
  "kernelspec": {
   "display_name": "Python 2",
   "language": "python",
   "name": "python2"
  },
  "language_info": {
   "codemirror_mode": {
    "name": "ipython",
    "version": 2
   },
   "file_extension": ".py",
   "mimetype": "text/x-python",
   "name": "python",
   "nbconvert_exporter": "python",
   "pygments_lexer": "ipython2",
   "version": "2.7.6"
  }
 },
 "nbformat": 4,
 "nbformat_minor": 0
}
